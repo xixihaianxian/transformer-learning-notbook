{
 "cells": [
  {
   "cell_type": "code",
   "id": "initial_id",
   "metadata": {
    "collapsed": true,
    "ExecuteTime": {
     "end_time": "2025-08-26T02:21:57.927296Z",
     "start_time": "2025-08-26T02:21:54.770169Z"
    }
   },
   "source": [
    "import torch\n",
    "from torch import nn\n",
    "from torch.nn import functional as F\n",
    "import math"
   ],
   "outputs": [],
   "execution_count": 1
  },
  {
   "metadata": {
    "ExecuteTime": {
     "end_time": "2025-08-25T02:33:40.736054Z",
     "start_time": "2025-08-25T02:33:40.722055Z"
    }
   },
   "cell_type": "code",
   "source": [
    "class TokenEmbedding(nn.Embedding):\n",
    "    # 将输入的词汇表转化为指定维度的Embedding\n",
    "    def __init__(self,vocab_size,d_model):\n",
    "        super().__init__(num_embeddings=vocab_size,embedding_dim=d_model,padding_idx=1)"
   ],
   "id": "437c0997aa9e768b",
   "outputs": [],
   "execution_count": 2
  },
  {
   "metadata": {},
   "cell_type": "markdown",
   "source": [
    "$PE_{(pos, 2i)} = \\sin\\left(\\frac{pos}{10000^{2i / d_{\\text{model}}}}\\right)$\n",
    "\n",
    "$PE_{(pos, 2i+1)} = \\cos\\left(\\frac{pos}{10000^{2i / d_{\\text{model}}}}\\right)$"
   ],
   "id": "7d94efb780e42b09"
  },
  {
   "metadata": {},
   "cell_type": "code",
   "outputs": [],
   "execution_count": null,
   "source": [
    "class PositionalEmbedding(nn.Module):\n",
    "    def __init__(self,d_model,max_len,device):\n",
    "        super().__init__()\n",
    "        self.device=torch.device(device)\n",
    "        self.encoding=torch.zeros(max_len,d_model,device=self.device)\n",
    "        self.encoding.requires_grad=False\n",
    "        pos=torch.arange(0,max_len,device=self.device,dtype=torch.float32)\n",
    "        pos=pos.unsequeeze(dim=1) # pos的大小为(max_len,1)\n",
    "        # unsequeezed的作用是在张量的指定位置插入大小为1的维度\n",
    "        _zi=torch.arange(0,d_model,step=2,dtype=torch.float32,device=self.device)\n",
    "        self.encoding[:,0::2]=torch.sin(pos/(1000**_zi/d_model))\n",
    "        self.encoding[:,1::2]=torch.cos(pos/(1000**_zi/d_model))\n",
    "        # self.encoding的大小为(max_len,d_model)\n",
    "    def forward(self,x):\n",
    "        batch_size,seq_len=x.size()\n",
    "        return self.encoding[:seq_len,:] # return 的大小是(seq_len,d_model)"
   ],
   "id": "b94402237d37a171"
  },
  {
   "metadata": {},
   "cell_type": "code",
   "outputs": [],
   "execution_count": null,
   "source": [
    "class TransformerEmbedding(nn.Module):\n",
    "    def __init__(self,vocab_size,d_model,max_len,drop_prod,device):\n",
    "        super().__init__()\n",
    "        pass"
   ],
   "id": "4eceeecd29928ad"
  }
 ],
 "metadata": {
  "kernelspec": {
   "display_name": "Python 3",
   "language": "python",
   "name": "python3"
  },
  "language_info": {
   "codemirror_mode": {
    "name": "ipython",
    "version": 2
   },
   "file_extension": ".py",
   "mimetype": "text/x-python",
   "name": "python",
   "nbconvert_exporter": "python",
   "pygments_lexer": "ipython2",
   "version": "2.7.6"
  }
 },
 "nbformat": 4,
 "nbformat_minor": 5
}
