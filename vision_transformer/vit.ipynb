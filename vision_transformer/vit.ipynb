{
 "cells": [
  {
   "cell_type": "code",
   "id": "initial_id",
   "metadata": {
    "collapsed": true,
    "ExecuteTime": {
     "end_time": "2025-09-13T01:17:27.350591Z",
     "start_time": "2025-09-13T01:17:22.546358Z"
    }
   },
   "source": [
    "import torch\n",
    "import torchvision\n",
    "import os\n",
    "from helper_functions import download_data"
   ],
   "outputs": [],
   "execution_count": 1
  },
  {
   "metadata": {},
   "cell_type": "markdown",
   "source": "#### 下载数据",
   "id": "82de31e76a661a0e"
  },
  {
   "metadata": {
    "ExecuteTime": {
     "end_time": "2025-09-10T04:38:37.836382Z",
     "start_time": "2025-09-10T04:38:37.830508Z"
    }
   },
   "cell_type": "code",
   "source": "download_data(source=\"https://github.com/mrdbourke/pytorch-deep-learning/raw/main/data/pizza_steak_sushi.zip\",destination=\"pizza_steak_sushi\")",
   "id": "ac7a39699470c583",
   "outputs": [
    {
     "name": "stdout",
     "output_type": "stream",
     "text": [
      "[INFO] data\\pizza_steak_sushi directory exists, skipping download.\n"
     ]
    },
    {
     "data": {
      "text/plain": [
       "WindowsPath('data/pizza_steak_sushi')"
      ]
     },
     "execution_count": 25,
     "metadata": {},
     "output_type": "execute_result"
    }
   ],
   "execution_count": 25
  },
  {
   "metadata": {
    "ExecuteTime": {
     "end_time": "2025-09-13T01:46:25.840567Z",
     "start_time": "2025-09-13T01:46:25.832581Z"
    }
   },
   "cell_type": "code",
   "source": [
    "def is_empty(iter_object:list):\n",
    "    if len(iter_object)==0:\n",
    "        return True\n",
    "    else:\n",
    "        return False\n",
    "for root, dirs, files in os.walk(\"./data/pizza_steak_sushi.zip\"):\n",
    "    if not is_empty(files):\n",
    "        for file in files:\n",
    "            print(os.path.join(root,file))"
   ],
   "id": "a0fd9ffd15b1c1a3",
   "outputs": [],
   "execution_count": 31
  },
  {
   "metadata": {
    "ExecuteTime": {
     "end_time": "2025-09-13T02:04:15.979370Z",
     "start_time": "2025-09-13T02:04:15.970815Z"
    }
   },
   "cell_type": "code",
   "source": [
    "import zipfile\n",
    "os.path.splitext(r\"./data/pizza_steak_sushi.zip\\test\\sushi\\3837522\")"
   ],
   "id": "1697147dea422a79",
   "outputs": [
    {
     "data": {
      "text/plain": [
       "('./data/pizza_steak_sushi.zip\\\\test\\\\sushi\\\\3837522', '')"
      ]
     },
     "execution_count": 34,
     "metadata": {},
     "output_type": "execute_result"
    }
   ],
   "execution_count": 34
  },
  {
   "metadata": {},
   "cell_type": "code",
   "outputs": [],
   "execution_count": null,
   "source": "",
   "id": "d180701ba5dbf436"
  }
 ],
 "metadata": {
  "kernelspec": {
   "display_name": "Python 3",
   "language": "python",
   "name": "python3"
  },
  "language_info": {
   "codemirror_mode": {
    "name": "ipython",
    "version": 2
   },
   "file_extension": ".py",
   "mimetype": "text/x-python",
   "name": "python",
   "nbconvert_exporter": "python",
   "pygments_lexer": "ipython2",
   "version": "2.7.6"
  }
 },
 "nbformat": 4,
 "nbformat_minor": 5
}
