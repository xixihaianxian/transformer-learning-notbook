{
 "cells": [
  {
   "cell_type": "code",
   "id": "initial_id",
   "metadata": {
    "collapsed": true,
    "ExecuteTime": {
     "end_time": "2025-09-03T03:32:25.496306Z",
     "start_time": "2025-09-03T03:32:23.946415Z"
    }
   },
   "source": [
    "import torch\n",
    "from torch import nn\n",
    "from torch.nn import functional as F"
   ],
   "outputs": [],
   "execution_count": 1
  },
  {
   "metadata": {},
   "cell_type": "markdown",
   "source": [
    "1. **均值**\n",
    "$$\n",
    "\\mu = \\frac{1}{d} \\sum_{i=1}^{d} x_i\n",
    "$$\n",
    "\n",
    "2. **方差**\n",
    "$$\n",
    "\\sigma^2 = \\frac{1}{d} \\sum_{i=1}^{d} (x_i - \\mu)^2\n",
    "$$\n",
    "\n",
    "3. **标准化**\n",
    "$$\n",
    "\\hat{x}_i = \\frac{x_i - \\mu}{\\sqrt{\\sigma^2 + \\epsilon}}\n",
    "$$\n",
    "\n",
    "4. **仿射变换（可学习参数）**\n",
    "$$\n",
    "y_i = \\gamma \\hat{x}_i + \\beta\n",
    "$$\n",
    "\n",
    "5. **最终形式**\n",
    "$$\n",
    "\\text{LayerNorm}(x) = \\gamma \\cdot \\frac{x - \\mu}{\\sqrt{\\sigma^2 + \\epsilon}} + \\beta\n",
    "$$"
   ],
   "id": "9d22fd10fc0c3119"
  },
  {
   "metadata": {},
   "cell_type": "code",
   "outputs": [],
   "execution_count": null,
   "source": [
    "class LayerNorm(nn.Module):\n",
    "    def __init__(self,d_model,eps=1e-12):\n",
    "        super().__init__()\n",
    "        self.d_model=d_model\n",
    "        self.eps=eps\n",
    "        self.gamma=nn.Parameter(data=torch.ones(self.d_model))\n",
    "        self.beta=nn.Parameter(data=torch.zeros(self.d_model))\n",
    "    def forward(self,x:torch.Tensor):\n",
    "        mean=x.mean(dim=-1,keepdim=True) # 计算平均值\n",
    "        var=x.var(dim=-1,keepdim=True,unbiased=False) # 计算方差\n",
    "        out=(x-mean)/torch.sqrt(var+self.eps)\n",
    "        out=self.gamma*out+self.beta\n",
    "        return out"
   ],
   "id": "38e972b6d7956ddc"
  }
 ],
 "metadata": {
  "kernelspec": {
   "display_name": "Python 3",
   "language": "python",
   "name": "python3"
  },
  "language_info": {
   "codemirror_mode": {
    "name": "ipython",
    "version": 2
   },
   "file_extension": ".py",
   "mimetype": "text/x-python",
   "name": "python",
   "nbconvert_exporter": "python",
   "pygments_lexer": "ipython2",
   "version": "2.7.6"
  }
 },
 "nbformat": 4,
 "nbformat_minor": 5
}
