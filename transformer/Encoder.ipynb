{
 "cells": [
  {
   "cell_type": "code",
   "id": "initial_id",
   "metadata": {
    "collapsed": true,
    "ExecuteTime": {
     "end_time": "2025-09-06T03:14:18.254144Z",
     "start_time": "2025-09-06T03:14:16.923744Z"
    }
   },
   "source": [
    "import torch\n",
    "from torch import nn\n",
    "from torch.nn import functional as F"
   ],
   "outputs": [],
   "execution_count": 2
  },
  {
   "metadata": {
    "ExecuteTime": {
     "end_time": "2025-09-06T03:14:18.285520Z",
     "start_time": "2025-09-06T03:14:18.271329Z"
    }
   },
   "cell_type": "code",
   "source": [
    "# 伪代码\n",
    "class LayerNorm(nn.Module):\n",
    "    def __init__(self,*args):\n",
    "        super().__init__()"
   ],
   "id": "c1bdfa407f75ba69",
   "outputs": [],
   "execution_count": 3
  },
  {
   "metadata": {
    "ExecuteTime": {
     "end_time": "2025-09-06T03:31:24.198975Z",
     "start_time": "2025-09-06T03:31:24.181258Z"
    }
   },
   "cell_type": "code",
   "source": [
    "# 伪代码\n",
    "class MultiHeadAttention(nn.Module):\n",
    "    def __init__(self,*args):\n",
    "        super().__init__()"
   ],
   "id": "5dab12ab5ef8002b",
   "outputs": [],
   "execution_count": 7
  },
  {
   "metadata": {
    "ExecuteTime": {
     "end_time": "2025-09-06T03:33:34.577468Z",
     "start_time": "2025-09-06T03:33:34.571399Z"
    }
   },
   "cell_type": "code",
   "source": [
    "# 伪代码\n",
    "class TransformerEmbedding(nn.Module):\n",
    "    def __init__(self,*args):\n",
    "        super().__init__()"
   ],
   "id": "51788fa991a0c21e",
   "outputs": [],
   "execution_count": 10
  },
  {
   "metadata": {},
   "cell_type": "markdown",
   "source": [
    "$$\n",
    "\\text{FFN}(\\mathbf{x}) = \\max(0, \\mathbf{x}W_1 + b_1)W_2 + b_2\n",
    "$$\n",
    "\n",
    "* $W_1 \\in \\mathbb{R}^{d_{model} \\times d_{ff}}$\n",
    "* $W_2 \\in \\mathbb{R}^{d_{ff} \\times d_{model}}$\n",
    "* $b_1 \\in \\mathbb{R}^{d_{ff}}, \\; b_2 \\in \\mathbb{R}^{d_{model}}$\n",
    "* $\\max(0, \\cdot)$ 表示 **ReLU 激活函数**（现在也常用 GELU）"
   ],
   "id": "99cc58576c1ebc28"
  },
  {
   "metadata": {
    "ExecuteTime": {
     "end_time": "2025-09-06T03:14:18.346829Z",
     "start_time": "2025-09-06T03:14:18.332650Z"
    }
   },
   "cell_type": "code",
   "source": [
    "class PositionWiseFeedForward(nn.Module):\n",
    "    def __init__(self,d_model,hidden,dropout=0.1):\n",
    "        super().__init__()\n",
    "        self.d_model=d_model\n",
    "        self.hidden=hidden\n",
    "        self.dropout=dropout\n",
    "        self.fc1=nn.Linear(in_features=self.d_model,out_features=self.hidden)\n",
    "        self.fc2=nn.Linear(in_features=self.hidden,out_features=self.d_model)\n",
    "        self.dropout=nn.Dropout(p=self.dropout)\n",
    "    def forward(self,x):\n",
    "        x=self.fc1(x)\n",
    "        x=F.relu(x)\n",
    "        x=self.dropout(x)\n",
    "        x=self.fc2(x)\n",
    "        return x"
   ],
   "id": "579001793e54c408",
   "outputs": [],
   "execution_count": 5
  },
  {
   "metadata": {},
   "cell_type": "markdown",
   "source": [
    "1. **自注意力子层**\n",
    "\n",
    "$$\n",
    "\\mathbf{z} = \\text{LayerNorm}(\\mathbf{x} + \\text{MultiHeadAttention}(\\mathbf{x}, \\mathbf{x}, \\mathbf{x}))\n",
    "$$\n",
    "\n",
    "2. **前馈子层**\n",
    "\n",
    "$$\n",
    "\\mathbf{y} = \\text{LayerNorm}(\\mathbf{z} + \\text{FFN}(\\mathbf{z}))\n",
    "$$\n",
    "\n",
    "最终输出 $\\mathbf{y}$ 与输入 $\\mathbf{x}$ 维度相同： `(batch_size, seq_len, d_model)`。\n"
   ],
   "id": "ac9c302c1f41dc80"
  },
  {
   "metadata": {
    "ExecuteTime": {
     "end_time": "2025-09-06T03:14:18.377403Z",
     "start_time": "2025-09-06T03:14:18.363399Z"
    }
   },
   "cell_type": "code",
   "source": [
    "class EncoderLayer(nn.Module):\n",
    "    def __init__(self,d_model,ffn_hidden,n_head,dropout=0.1):\n",
    "        super().__init__()\n",
    "        self.d_model=d_model\n",
    "        self.ffn_hidden=ffn_hidden\n",
    "        self.n_head=n_head\n",
    "        self.dropout_rate=dropout\n",
    "        self.attention=MultiHeadAttention(d_model,n_head)\n",
    "        self.normal=LayerNorm(d_model)\n",
    "        self.dropout=nn.Dropout(p=self.dropout_rate)\n",
    "        self.ffn=PositionWiseFeedForward(d_model,ffn_hidden,self.dropout_rate)\n",
    "    def forward(self,x:torch.Tensor):\n",
    "        # x_copy=torch.clone(x)\n",
    "        z=self.normal(x+self.attention(x,x,x))\n",
    "        z=self.dropout(z)\n",
    "        y=self.normal(z+self.dropout(self.ffn(z)))\n",
    "        return y"
   ],
   "id": "911186b56a18bf3f",
   "outputs": [],
   "execution_count": 6
  },
  {
   "metadata": {},
   "cell_type": "markdown",
   "source": [
    "## Encoder 的结构\n",
    "\n",
    "Transformer 的 **Encoder** 是由 **N 层 EncoderLayer 堆叠**而成。\n",
    "\n",
    "在 *Attention is All You Need (2017)* 中：\n",
    "\n",
    "* 输入首先经过 **词嵌入 (Embedding)** 和 **位置编码 (Positional Encoding)**；\n",
    "* 然后送入 **N 层 EncoderLayer**（论文里 $N=6$）；\n",
    "* 最终得到每个位置的上下文表示。"
   ],
   "id": "3fd54025aac5c63"
  },
  {
   "metadata": {},
   "cell_type": "code",
   "source": [
    "class Encoder(nn.Module):\n",
    "    def __init__(self,enc_voc_size,max_len,d_model,ffn_hidden,n_head,n_layer,device,dropout=0.1):\n",
    "        super().__init__()\n",
    "        self.enc_voc_size=enc_voc_size\n",
    "        self.max_len=max_len\n",
    "        self.d_model=d_model\n",
    "        self.ffn_hidden=ffn_hidden\n",
    "        self.n_head=n_head\n",
    "        self.n_layer=n_layer\n",
    "        self.device=device\n",
    "        self.dropout_rate=dropout\n",
    "        self.embedding=TransformerEmbedding(self.enc_voc_size,self.max_len,self.d_model,dropout)\n",
    "        self.layers=nn.ModuleList([\n",
    "            EncoderLayer(self.d_model,self.ffn_hidden,self.n_head,self.device) for _ in range(n_layer)\n",
    "        ])\n",
    "    def forward(self,x):\n",
    "        x=self.embedding(x)\n",
    "        for layer in self.layers:\n",
    "            x=layer(x)\n",
    "        return x"
   ],
   "id": "eec760097eac0d9e",
   "outputs": [],
   "execution_count": null
  }
 ],
 "metadata": {
  "kernelspec": {
   "display_name": "Python 3",
   "language": "python",
   "name": "python3"
  },
  "language_info": {
   "codemirror_mode": {
    "name": "ipython",
    "version": 2
   },
   "file_extension": ".py",
   "mimetype": "text/x-python",
   "name": "python",
   "nbconvert_exporter": "python",
   "pygments_lexer": "ipython2",
   "version": "2.7.6"
  }
 },
 "nbformat": 4,
 "nbformat_minor": 5
}
